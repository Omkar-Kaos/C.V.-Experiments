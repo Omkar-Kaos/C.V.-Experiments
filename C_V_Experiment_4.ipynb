{
  "nbformat": 4,
  "nbformat_minor": 0,
  "metadata": {
    "colab": {
      "provenance": [],
      "include_colab_link": true
    },
    "kernelspec": {
      "name": "python3",
      "display_name": "Python 3"
    },
    "language_info": {
      "name": "python"
    }
  },
  "cells": [
    {
      "cell_type": "markdown",
      "metadata": {
        "id": "view-in-github",
        "colab_type": "text"
      },
      "source": [
        "<a href=\"https://colab.research.google.com/github/Omkar-Kaos/C.V.-Experiments/blob/main/C_V_Experiment_4.ipynb\" target=\"_parent\"><img src=\"https://colab.research.google.com/assets/colab-badge.svg\" alt=\"Open In Colab\"/></a>"
      ]
    },
    {
      "cell_type": "code",
      "source": [
        "import cv2\n",
        "import numpy as np\n",
        "import matplotlib.pyplot as plt\n",
        "\n",
        "# Function to generate an image of a given digit\n",
        "def generate_digit_image(digit_char):\n",
        "    img = np.zeros((100, 100), dtype=np.uint8)\n",
        "    cv2.putText(img, digit_char, (30, 80), cv2.FONT_HERSHEY_SIMPLEX, 2, 255, 5)\n",
        "    return img\n",
        "\n",
        "# Take a digit from roll number\n",
        "roll_number = \"1032220231\"\n",
        "selected_digit = input(f\"Enter a digit from your roll number ({roll_number}): \")\n",
        "\n",
        "# Generate digit image\n",
        "digit_image = generate_digit_image(selected_digit)\n",
        "\n",
        "# Show the generated image\n",
        "plt.imshow(digit_image, cmap='gray')\n",
        "plt.title(f\"Generated Digit Image for {selected_digit}\")\n",
        "plt.axis('off')\n",
        "plt.show()\n"
      ],
      "metadata": {
        "colab": {
          "base_uri": "https://localhost:8080/",
          "height": 446
        },
        "id": "Oh1pTg3lmFnD",
        "outputId": "43bf9f10-8b6d-4ce9-eeff-6a38d9c98d31"
      },
      "execution_count": null,
      "outputs": [
        {
          "name": "stdout",
          "output_type": "stream",
          "text": [
            "Enter a digit from your roll number (1032220231): 1\n"
          ]
        },
        {
          "output_type": "display_data",
          "data": {
            "text/plain": [
              "<Figure size 640x480 with 1 Axes>"
            ],
            "image/png": "[encoded data removed]"
          },
          "metadata": {}
        }
      ]
    },
    {
      "cell_type": "code",
      "source": [
        "# Convert to binary image\n",
        "_, thresh = cv2.threshold(digit_image, 127, 255, cv2.THRESH_BINARY)\n",
        "\n",
        "# Find contours\n",
        "contours, _ = cv2.findContours(thresh, cv2.RETR_EXTERNAL, cv2.CHAIN_APPROX_NONE)\n",
        "\n",
        "# Display contour information\n",
        "print(\"Number of contours found:\", len(contours))\n",
        "\n",
        "# Draw boundary around the contour\n",
        "border_image = cv2.cvtColor(digit_image, cv2.COLOR_GRAY2BGR)\n",
        "\n",
        "if contours:\n",
        "    contour = contours[0]\n",
        "    for point in contour:\n",
        "        x, y = point[0]\n",
        "        border_image[y, x] = (0, 255, 0)  # Mark contour points\n",
        "\n",
        "    # Show the boundary image\n",
        "    plt.imshow(border_image)\n",
        "    plt.title(\"Highlighted Boundary\")\n",
        "    plt.axis('off')\n",
        "    plt.show()\n",
        "else:\n",
        "    print(\"No contours found.\")\n"
      ],
      "metadata": {
        "colab": {
          "base_uri": "https://localhost:8080/",
          "height": 446
        },
        "id": "tNTLCUdomHgH",
        "outputId": "266b82ca-2e0c-4242-da02-f2c7d8f3d138"
      },
      "execution_count": null,
      "outputs": [
        {
          "output_type": "stream",
          "name": "stdout",
          "text": [
            "Number of contours found: 1\n"
          ]
        },
        {
          "output_type": "display_data",
          "data": {
            "text/plain": [
              "<Figure size 640x480 with 1 Axes>"
            ],
            "image/png": "[encoded data removed]"
          },
          "metadata": {}
        }
      ]
    },
    {
      "cell_type": "code",
      "source": [
        "# Function to compute chain code\n",
        "def compute_chain_code(contour):\n",
        "    directions = {\n",
        "        (0, 1): 0,  (1, 1): 1,  (1, 0): 2,  (1, -1): 3,\n",
        "        (0, -1): 4, (-1, -1): 5, (-1, 0): 6, (-1, 1): 7\n",
        "    }\n",
        "    chain_code = []\n",
        "    for i in range(1, len(contour)):\n",
        "        x1, y1 = contour[i-1][0]\n",
        "        x2, y2 = contour[i][0]\n",
        "        dx = x2 - x1\n",
        "        dy = y2 - y1\n",
        "        if (dx, dy) in directions:\n",
        "            chain_code.append(directions[(dx, dy)])\n",
        "    return chain_code\n",
        "\n",
        "# Compute chain code\n",
        "if contours:\n",
        "    contour = contours[0]\n",
        "    chain_code = compute_chain_code(contour)\n",
        "    print(\"Original Chain Code:\", chain_code)\n"
      ],
      "metadata": {
        "colab": {
          "base_uri": "https://localhost:8080/"
        },
        "id": "fgl0txWCmNSO",
        "outputId": "1a5c7cd6-5ef8-4685-da87-d87adc13bde4"
      },
      "execution_count": null,
      "outputs": [
        {
          "output_type": "stream",
          "name": "stdout",
          "text": [
            "Original Chain Code: [7, 6, 7, 7, 7, 7, 7, 7, 6, 7, 6, 7, 0, 7, 1, 0, 2, 1, 2, 3, 2, 3, 2, 3, 1, 0, 0, 0, 0, 0, 0, 0, 0, 0, 0, 0, 0, 0, 0, 0, 0, 0, 0, 0, 0, 0, 0, 0, 0, 0, 0, 0, 0, 0, 0, 0, 0, 0, 1, 0, 2, 1, 3, 2, 4, 3, 4, 4, 4, 4, 4, 4, 4, 4, 4, 4, 4, 4, 4, 4, 4, 4, 4, 4, 4, 4, 4, 4, 4, 4, 4, 4, 4, 4, 4, 4, 4, 4, 4, 4, 4, 4, 4, 4, 4, 4, 4, 4, 5, 4, 6]\n"
          ]
        }
      ]
    },
    {
      "cell_type": "code",
      "source": [
        "# Function to downsample chain code\n",
        "def downsample_chain_code(chain_code, max_order=10):\n",
        "    step = max(1, len(chain_code) // max_order)\n",
        "    return chain_code[::step]\n",
        "\n",
        "# Function to compute first difference\n",
        "def compute_first_difference(chain_code):\n",
        "    return [(chain_code[i] - chain_code[i-1]) % 8 for i in range(1, len(chain_code))]\n",
        "\n",
        "# Downsampling and computing first difference\n",
        "if contours:\n",
        "    downsampled_code = downsample_chain_code(chain_code)\n",
        "    print(\"Downsampled Chain Code:\", downsampled_code)\n",
        "\n",
        "    first_difference = compute_first_difference(downsampled_code)\n",
        "    print(\"First Difference:\", first_difference)\n"
      ],
      "metadata": {
        "colab": {
          "base_uri": "https://localhost:8080/"
        },
        "id": "32NWgdTLmQr5",
        "outputId": "610b6a33-bbd4-4176-caa8-70ee56f99bdf"
      },
      "execution_count": null,
      "outputs": [
        {
          "output_type": "stream",
          "name": "stdout",
          "text": [
            "Downsampled Chain Code: [7, 7, 2, 0, 0, 0, 4, 4, 4, 4, 6]\n",
            "First Difference: [0, 3, 6, 0, 0, 4, 0, 0, 0, 2]\n"
          ]
        }
      ]
    },
    {
      "cell_type": "code",
      "source": [
        "# Function to find shape number (rotation-invariant)\n",
        "def compute_shape_number(first_difference):\n",
        "    rotations = [first_difference[i:] + first_difference[:i] for i in range(len(first_difference))]\n",
        "    return min(rotations)\n",
        "\n",
        "# Compute shape number\n",
        "if contours:\n",
        "    shape_number = compute_shape_number(first_difference)\n",
        "    print(\"Shape Number:\", shape_number)\n"
      ],
      "metadata": {
        "colab": {
          "base_uri": "https://localhost:8080/"
        },
        "id": "a5IpFa43mTob",
        "outputId": "5baca53e-94e5-46a5-f0b0-ad73e2f1e51a"
      },
      "execution_count": null,
      "outputs": [
        {
          "output_type": "stream",
          "name": "stdout",
          "text": [
            "Shape Number: [0, 0, 0, 2, 0, 3, 6, 0, 0, 4]\n"
          ]
        }
      ]
    }
  ]
}